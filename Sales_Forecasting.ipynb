{
  "cells": [
    {
      "cell_type": "markdown",
      "metadata": {
        "colab_type": "text",
        "id": "view-in-github"
      },
      "source": [
        "<a href=\"https://colab.research.google.com/github/lalith0203/Sales-Forecasting-using-LSTM/blob/main/Sales_Forecasting.ipynb\" target=\"_parent\"><img src=\"https://colab.research.google.com/assets/colab-badge.svg\" alt=\"Open In Colab\"/></a>"
      ]
    },
    {
      "cell_type": "code",
      "execution_count": null,
      "metadata": {
        "id": "PuFj7Tv5_wbR"
      },
      "outputs": [],
      "source": [
        "import numpy as np\n",
        "import pandas as pd\n",
        "\n",
        "import matplotlib.pyplot as plt\n",
        "import seaborn as sns\n",
        "\n",
        "import tensorflow as tf\n",
        "from tensorflow import keras\n",
        "\n",
        "from sklearn.preprocessing import MinMaxScaler\n",
        "\n",
        "from tensorflow.keras.preprocessing.sequence import TimeseriesGenerator\n",
        "\n",
        "from tensorflow.keras.models import Sequential\n",
        "from tensorflow.keras.layers import Dense, LSTM\n",
        "\n",
        "from tensorflow.keras.callbacks import EarlyStopping"
      ]
    },
    {
      "cell_type": "code",
      "execution_count": null,
      "metadata": {
        "colab": {
          "base_uri": "https://localhost:8080/",
          "height": 74
        },
        "id": "udRSKPuPAIG1",
        "outputId": "80f0e376-c4bd-441a-b92a-01d903140464"
      },
      "outputs": [],
      "source": [
        "from google.colab import files\n",
        "uploaded = files.upload()"
      ]
    },
    {
      "cell_type": "code",
      "execution_count": null,
      "metadata": {
        "id": "othle6oHR8FY"
      },
      "outputs": [],
      "source": [
        "dataset_path = 'RSCCASN.csv'"
      ]
    },
    {
      "cell_type": "code",
      "execution_count": null,
      "metadata": {
        "id": "CbvQKI9ASCti"
      },
      "outputs": [],
      "source": [
        "sales_data = pd.read_csv(dataset_path,  parse_dates=True, index_col='DATE')"
      ]
    },
    {
      "cell_type": "code",
      "execution_count": null,
      "metadata": {
        "colab": {
          "base_uri": "https://localhost:8080/",
          "height": 204
        },
        "id": "Hkiffo__SHYn",
        "outputId": "2e5a5d60-a1bd-4041-d72b-e06a3bbfa13c"
      },
      "outputs": [],
      "source": [
        "type(sales_data)"
      ]
    },
    {
      "cell_type": "code",
      "execution_count": null,
      "metadata": {
        "colab": {
          "base_uri": "https://localhost:8080/"
        },
        "id": "FLWfnBp4SJja",
        "outputId": "988b79a2-a134-49f9-e535-85dfda00d6bc"
      },
      "outputs": [],
      "source": [
        "sales_data.columns"
      ]
    },
    {
      "cell_type": "code",
      "execution_count": null,
      "metadata": {
        "colab": {
          "base_uri": "https://localhost:8080/"
        },
        "id": "0FilqMW5SNNi",
        "outputId": "6baeac37-a588-4f2d-9f95-d11917cd5ed7"
      },
      "outputs": [],
      "source": [
        "sales_data.columns"
      ]
    },
    {
      "cell_type": "code",
      "execution_count": null,
      "metadata": {
        "colab": {
          "base_uri": "https://localhost:8080/"
        },
        "id": "mtdAHHLDSSRO",
        "outputId": "77987812-b619-411b-aece-79ae51bfb8a8"
      },
      "outputs": [],
      "source": [
        "print(sales_data.info())"
      ]
    },
    {
      "cell_type": "code",
      "execution_count": null,
      "metadata": {
        "colab": {
          "base_uri": "https://localhost:8080/"
        },
        "id": "pq-wA422SZ9B",
        "outputId": "eb22ad6a-c235-4d97-af6d-6d1ff52fcbfc"
      },
      "outputs": [],
      "source": [
        "print(sales_data.describe())"
      ]
    },
    {
      "cell_type": "code",
      "execution_count": null,
      "metadata": {
        "colab": {
          "base_uri": "https://localhost:8080/",
          "height": 246
        },
        "id": "_yqwOKVaSeEc",
        "outputId": "dcf39ed4-8b8e-4778-8746-f51d8196b983"
      },
      "outputs": [],
      "source": [
        "sales_data.head()"
      ]
    },
    {
      "cell_type": "code",
      "execution_count": null,
      "metadata": {
        "colab": {
          "base_uri": "https://localhost:8080/",
          "height": 246
        },
        "id": "uKhnWwBUSoln",
        "outputId": "1be0a8ea-c33a-409d-a551-b07fcdb538be"
      },
      "outputs": [],
      "source": [
        "sales_data.tail()"
      ]
    },
    {
      "cell_type": "code",
      "execution_count": null,
      "metadata": {
        "colab": {
          "base_uri": "https://localhost:8080/",
          "height": 560
        },
        "id": "13fCEV7hSuqT",
        "outputId": "32f4f8db-69a8-4406-d424-8d4b4fa0f9f0"
      },
      "outputs": [],
      "source": [
        "sales_data.plot(figsize=(10, 6))"
      ]
    },
    {
      "cell_type": "code",
      "execution_count": null,
      "metadata": {
        "colab": {
          "base_uri": "https://localhost:8080/"
        },
        "id": "54L59KPPSyuT",
        "outputId": "0486e472-de2d-4830-90ba-be6755bf38a2"
      },
      "outputs": [],
      "source": [
        "len(sales_data)"
      ]
    },
    {
      "cell_type": "code",
      "execution_count": null,
      "metadata": {
        "colab": {
          "base_uri": "https://localhost:8080/"
        },
        "id": "lhG28rsHS2kJ",
        "outputId": "e5e08bd0-3430-41c6-e5f1-e45b675eed44"
      },
      "outputs": [],
      "source": [
        "len(sales_data) - 18"
      ]
    },
    {
      "cell_type": "code",
      "execution_count": null,
      "metadata": {
        "id": "8rIgIQD5S5xX"
      },
      "outputs": [],
      "source": [
        "test_size = 18\n",
        "test_index = len(sales_data) - test_size"
      ]
    },
    {
      "cell_type": "code",
      "execution_count": null,
      "metadata": {
        "colab": {
          "base_uri": "https://localhost:8080/"
        },
        "id": "kHyFlP51S9MX",
        "outputId": "f8f5bf70-d381-4785-be25-b4427a9ecfd7"
      },
      "outputs": [],
      "source": [
        "test_index"
      ]
    },
    {
      "cell_type": "code",
      "execution_count": null,
      "metadata": {
        "id": "ScMk3fMnTCjV"
      },
      "outputs": [],
      "source": [
        "train = sales_data.iloc[:test_index]\n",
        "test = sales_data.iloc[test_index:]"
      ]
    },
    {
      "cell_type": "code",
      "execution_count": null,
      "metadata": {
        "colab": {
          "base_uri": "https://localhost:8080/",
          "height": 246
        },
        "id": "NEebIuywTD1G",
        "outputId": "105b2c06-2596-450a-9407-506baed47d1f"
      },
      "outputs": [],
      "source": [
        "train.head()"
      ]
    },
    {
      "cell_type": "code",
      "execution_count": null,
      "metadata": {
        "colab": {
          "base_uri": "https://localhost:8080/",
          "height": 246
        },
        "id": "EWvyfkMFTHfO",
        "outputId": "3d60b917-d342-461b-c79f-354ba78605e2"
      },
      "outputs": [],
      "source": [
        "train.tail()"
      ]
    },
    {
      "cell_type": "code",
      "execution_count": null,
      "metadata": {
        "colab": {
          "base_uri": "https://localhost:8080/",
          "height": 246
        },
        "id": "eQ264giETLjH",
        "outputId": "7c3c0d8d-cb0b-4751-aa7e-2941f843326f"
      },
      "outputs": [],
      "source": [
        "test.head()"
      ]
    },
    {
      "cell_type": "code",
      "execution_count": null,
      "metadata": {
        "colab": {
          "base_uri": "https://localhost:8080/",
          "height": 246
        },
        "id": "2ZqiGaSETQD6",
        "outputId": "0f3492eb-6996-4330-84ab-8f389d015e46"
      },
      "outputs": [],
      "source": [
        "test.tail()"
      ]
    },
    {
      "cell_type": "code",
      "execution_count": null,
      "metadata": {
        "id": "6i4U9jYWTT-L"
      },
      "outputs": [],
      "source": [
        "scaler = MinMaxScaler()"
      ]
    },
    {
      "cell_type": "code",
      "execution_count": null,
      "metadata": {
        "colab": {
          "base_uri": "https://localhost:8080/",
          "height": 75
        },
        "id": "3eTc0iskTW3U",
        "outputId": "a954aaac-f825-481d-d138-b9a6971d90ee"
      },
      "outputs": [],
      "source": [
        "scaler.fit(train)"
      ]
    },
    {
      "cell_type": "code",
      "execution_count": null,
      "metadata": {
        "id": "6SQOUjrwTaFf"
      },
      "outputs": [],
      "source": [
        "scaled_train = scaler.transform(train)\n",
        "scaled_test = scaler.transform(test)"
      ]
    },
    {
      "cell_type": "code",
      "execution_count": null,
      "metadata": {
        "colab": {
          "base_uri": "https://localhost:8080/"
        },
        "id": "ppUtn8tuTdT1",
        "outputId": "bdc14b24-4329-4ffa-e2a1-b3189ae6af34"
      },
      "outputs": [],
      "source": [
        "scaled_train[:5]"
      ]
    },
    {
      "cell_type": "code",
      "execution_count": null,
      "metadata": {
        "colab": {
          "base_uri": "https://localhost:8080/"
        },
        "id": "t4sMGml5TjdK",
        "outputId": "f8ad1d98-5ea2-479b-efb7-445f84440d95"
      },
      "outputs": [],
      "source": [
        "scaled_test[:5]"
      ]
    },
    {
      "cell_type": "code",
      "execution_count": null,
      "metadata": {
        "id": "Bxdndt0VTl-x"
      },
      "outputs": [],
      "source": [
        "length = 12"
      ]
    },
    {
      "cell_type": "code",
      "execution_count": null,
      "metadata": {
        "id": "wfqFoj0TTrBV"
      },
      "outputs": [],
      "source": [
        "generator = TimeseriesGenerator(scaled_train, scaled_train, length=length, batch_size=1)"
      ]
    },
    {
      "cell_type": "code",
      "execution_count": null,
      "metadata": {
        "id": "1UHHZOC0TuGD"
      },
      "outputs": [],
      "source": [
        "X, y = generator[0]"
      ]
    },
    {
      "cell_type": "code",
      "execution_count": null,
      "metadata": {
        "colab": {
          "base_uri": "https://localhost:8080/"
        },
        "id": "hSV3-xd3TxHR",
        "outputId": "f701c440-5f18-4324-c429-fe63724bf408"
      },
      "outputs": [],
      "source": [
        "X"
      ]
    },
    {
      "cell_type": "code",
      "execution_count": null,
      "metadata": {
        "colab": {
          "base_uri": "https://localhost:8080/"
        },
        "id": "EQQNR_JJTzRT",
        "outputId": "07961123-ffd8-47c6-de45-65856ad0895b"
      },
      "outputs": [],
      "source": [
        "y"
      ]
    },
    {
      "cell_type": "code",
      "execution_count": null,
      "metadata": {
        "colab": {
          "base_uri": "https://localhost:8080/"
        },
        "id": "7e1XlGOAT2DK",
        "outputId": "f3ed5325-0905-49bb-a644-90b80f5306e5"
      },
      "outputs": [],
      "source": [
        "len(X[0])"
      ]
    },
    {
      "cell_type": "code",
      "execution_count": null,
      "metadata": {
        "id": "mozz8SHlT4vC"
      },
      "outputs": [],
      "source": [
        "n_features = 1"
      ]
    },
    {
      "cell_type": "code",
      "execution_count": null,
      "metadata": {
        "id": "MloIiiqKT7zz"
      },
      "outputs": [],
      "source": [
        "model = Sequential()\n",
        "model.add(LSTM(100, activation='relu', input_shape=(length, n_features)))\n",
        "model.add(Dense(1))\n",
        "model.compile(optimizer='adam', loss='mse')"
      ]
    },
    {
      "cell_type": "code",
      "execution_count": null,
      "metadata": {
        "colab": {
          "base_uri": "https://localhost:8080/"
        },
        "id": "qV_E4VfzT_az",
        "outputId": "2a805242-3cba-4ee9-d229-5f66d3fb5a64"
      },
      "outputs": [],
      "source": [
        "model.summary()"
      ]
    },
    {
      "cell_type": "code",
      "execution_count": null,
      "metadata": {
        "id": "91ODB0slUFTY"
      },
      "outputs": [],
      "source": [
        "early_stop = EarlyStopping(monitor='val_loss', patience=2)"
      ]
    },
    {
      "cell_type": "code",
      "execution_count": null,
      "metadata": {
        "id": "ht0JXy8FUHUz"
      },
      "outputs": [],
      "source": [
        "validation_generator = TimeseriesGenerator(scaled_test, scaled_test, length=length, batch_size=1)"
      ]
    },
    {
      "cell_type": "code",
      "execution_count": null,
      "metadata": {
        "colab": {
          "base_uri": "https://localhost:8080/"
        },
        "id": "imfZat4HUK62",
        "outputId": "49bf03c9-2bb2-4bc6-add4-879958498509"
      },
      "outputs": [],
      "source": [
        "model.fit(generator, epochs=70,\n",
        "          validation_data=validation_generator,\n",
        "          callbacks=[early_stop])"
      ]
    },
    {
      "cell_type": "code",
      "execution_count": null,
      "metadata": {
        "id": "26r-SPvdU9Uo"
      },
      "outputs": [],
      "source": [
        "losses = pd.DataFrame(model.history.history)"
      ]
    },
    {
      "cell_type": "code",
      "execution_count": null,
      "metadata": {
        "colab": {
          "base_uri": "https://localhost:8080/",
          "height": 448
        },
        "id": "OcHF9dpeVCbt",
        "outputId": "7a6f9617-632a-49dd-b6f9-fe9092188d21"
      },
      "outputs": [],
      "source": [
        "losses.plot()"
      ]
    },
    {
      "cell_type": "code",
      "execution_count": null,
      "metadata": {
        "colab": {
          "base_uri": "https://localhost:8080/"
        },
        "id": "eNFJHzamVEEY",
        "outputId": "d3463336-cd2e-43da-ffae-908eb0a75fb4"
      },
      "outputs": [],
      "source": [
        "test_predictions = []\n",
        "\n",
        "first_eval_batch = scaled_train[-length:]\n",
        "current_batch = first_eval_batch.reshape((1, length, n_features))\n",
        "\n",
        "for i in range(len(test)):\n",
        "    current_pred = model.predict(current_batch)[0]\n",
        "    test_predictions.append(current_pred)\n",
        "    current_batch = np.append(current_batch[:, 1:, :], [[current_pred]], axis=1)"
      ]
    },
    {
      "cell_type": "code",
      "execution_count": null,
      "metadata": {
        "id": "0SnPzb4wVNgD"
      },
      "outputs": [],
      "source": [
        "true_prediction = scaler.inverse_transform(test_predictions)"
      ]
    },
    {
      "cell_type": "code",
      "execution_count": null,
      "metadata": {
        "colab": {
          "base_uri": "https://localhost:8080/"
        },
        "id": "sXW7hTE_VRL-",
        "outputId": "ecbe13e9-46cb-4b9d-e973-18b7be9c8f70"
      },
      "outputs": [],
      "source": [
        "test['Predictions'] = true_prediction"
      ]
    },
    {
      "cell_type": "code",
      "execution_count": null,
      "metadata": {
        "colab": {
          "base_uri": "https://localhost:8080/",
          "height": 526
        },
        "id": "olZLYx3sVULV",
        "outputId": "74be5a0e-0d13-4ddc-c447-d4d58e3f11eb"
      },
      "outputs": [],
      "source": [
        "test"
      ]
    },
    {
      "cell_type": "code",
      "execution_count": null,
      "metadata": {
        "colab": {
          "base_uri": "https://localhost:8080/",
          "height": 730
        },
        "id": "xd44YwjvVZ5B",
        "outputId": "6b3d9df2-e5cf-44b7-d4e6-aacbe302d230"
      },
      "outputs": [],
      "source": [
        "test.plot(figsize=(12, 8))"
      ]
    },
    {
      "cell_type": "code",
      "execution_count": null,
      "metadata": {
        "id": "LBKr7nSqVdGJ"
      },
      "outputs": [],
      "source": [
        "full_scaler = MinMaxScaler()\n",
        "scaled_full_data = full_scaler.fit_transform(sales_data)"
      ]
    },
    {
      "cell_type": "code",
      "execution_count": null,
      "metadata": {
        "id": "Lbed1g2OViIX"
      },
      "outputs": [],
      "source": [
        "length = 12\n",
        "generator = TimeseriesGenerator(scaled_full_data, scaled_full_data, length=length, batch_size=1)"
      ]
    },
    {
      "cell_type": "code",
      "execution_count": null,
      "metadata": {
        "colab": {
          "base_uri": "https://localhost:8080/"
        },
        "id": "7cUX5B5pVlnA",
        "outputId": "42b9a075-ad58-4891-a358-e8d723d283dd"
      },
      "outputs": [],
      "source": [
        "model = Sequential()\n",
        "model.add(LSTM(100, activation='relu', input_shape=(length, n_features)))\n",
        "model.add(Dense(1))\n",
        "model.compile(optimizer='adam', loss='mse')\n",
        "model.fit(generator, epochs=20)"
      ]
    },
    {
      "cell_type": "code",
      "execution_count": null,
      "metadata": {
        "colab": {
          "base_uri": "https://localhost:8080/"
        },
        "id": "lzCK7HrKWBdD",
        "outputId": "6b937159-5a2b-453e-fb0a-3ba267f5adfd"
      },
      "outputs": [],
      "source": [
        "forecast = []\n",
        "periods = 12\n",
        "\n",
        "first_eval_batch = scaled_full_data[-length:]\n",
        "current_batch = first_eval_batch.reshape((1, length, n_features))\n",
        "\n",
        "for i in range(periods):\n",
        "    current_pred = model.predict(current_batch)[0]\n",
        "    forecast.append(current_pred)\n",
        "    current_batch = np.append(current_batch[:, 1:, :], [[current_pred]], axis=1)"
      ]
    },
    {
      "cell_type": "code",
      "execution_count": null,
      "metadata": {
        "id": "CdkNYKVSWMdr"
      },
      "outputs": [],
      "source": [
        "forecast = scaler.inverse_transform(forecast)"
      ]
    },
    {
      "cell_type": "code",
      "execution_count": null,
      "metadata": {
        "colab": {
          "base_uri": "https://localhost:8080/",
          "height": 687
        },
        "id": "qCWmZnFQWP-v",
        "outputId": "c9781a29-73c6-42aa-fb0c-18ae883aa617"
      },
      "outputs": [],
      "source": [
        "sales_data"
      ]
    },
    {
      "cell_type": "code",
      "execution_count": null,
      "metadata": {
        "colab": {
          "base_uri": "https://localhost:8080/"
        },
        "id": "7-7gmeH3WTAZ",
        "outputId": "1be8df38-d6d7-41d2-9002-e4f8faf8238d"
      },
      "outputs": [],
      "source": [
        "forecast"
      ]
    },
    {
      "cell_type": "code",
      "execution_count": null,
      "metadata": {
        "id": "kbVdT5JRWWNt"
      },
      "outputs": [],
      "source": [
        "forecast_index = pd.date_range(start='2019-11-01', periods=periods, freq='MS')"
      ]
    },
    {
      "cell_type": "code",
      "execution_count": null,
      "metadata": {
        "colab": {
          "base_uri": "https://localhost:8080/"
        },
        "id": "w_dUMwFqWboD",
        "outputId": "15d527ef-0d0e-470c-f081-6e3fcfb69092"
      },
      "outputs": [],
      "source": [
        "forecast_index"
      ]
    },
    {
      "cell_type": "code",
      "execution_count": null,
      "metadata": {
        "id": "dYuSWMJEWgPo"
      },
      "outputs": [],
      "source": [
        "forecast_data = pd.DataFrame(data=forecast, index=forecast_index, columns=['Forecast'])"
      ]
    },
    {
      "cell_type": "code",
      "execution_count": null,
      "metadata": {
        "colab": {
          "base_uri": "https://localhost:8080/",
          "height": 397
        },
        "id": "q-8B5svlWjD1",
        "outputId": "075343ba-3a5c-4149-9781-4504587aa8f5"
      },
      "outputs": [],
      "source": [
        "forecast_data"
      ]
    }
  ],
  "metadata": {
    "colab": {
      "authorship_tag": "ABX9TyPqr7OE2gyyfz5OwDLGpqTW",
      "include_colab_link": true,
      "provenance": []
    },
    "kernelspec": {
      "display_name": "Python 3",
      "name": "python3"
    },
    "language_info": {
      "name": "python"
    }
  },
  "nbformat": 4,
  "nbformat_minor": 0
}
